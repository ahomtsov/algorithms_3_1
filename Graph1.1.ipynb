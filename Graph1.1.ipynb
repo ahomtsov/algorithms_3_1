{
 "cells": [
  {
   "cell_type": "code",
   "execution_count": 1,
   "metadata": {},
   "outputs": [],
   "source": [
    "import networkx as nx\n",
    "import matplotlib.pyplot as plt"
   ]
  },
  {
   "cell_type": "code",
   "execution_count": 87,
   "metadata": {},
   "outputs": [],
   "source": [
    "class Graph:\n",
    "    def __init__(self, matr: list):\n",
    "        self.graph = matr\n",
    "        \n",
    "    @classmethod\n",
    "    def init_by_adjacency_list(cls, list1):\n",
    "        x = cls(list1)\n",
    "        return x\n",
    "        \n",
    "    @classmethod\n",
    "    def init_by_adjacency_matrix(cls, matrix):\n",
    "        graph = [[]]\n",
    "        for i in range(len(matrix) - 1):\n",
    "            graph.append([])\n",
    "        for i in range(len(matrix)):\n",
    "            for j in range(i):\n",
    "                if matrix[i][j] == 1:\n",
    "                    graph[i].append(j)\n",
    "                    graph[j].append(i)\n",
    "        x = cls(graph)\n",
    "        return x\n",
    "        \n",
    "    @classmethod\n",
    "    def init_by_incendent_matrix(cls, matrix):\n",
    "        graph = [[]]\n",
    "        for i in range(len(matrix) - 1):\n",
    "            graph.append([])\n",
    "        for i in range(len(matrix[0])):\n",
    "            cnt = []\n",
    "            for j in range(len(matrix)):\n",
    "                if matrix[j][i] == 1:\n",
    "                     cnt.append(j)\n",
    "            cnt1 = cnt.pop()\n",
    "            cnt2 = cnt.pop()\n",
    "            graph[cnt1].append(cnt2)\n",
    "            graph[cnt2].append(cnt1)\n",
    "        x = cls(graph)\n",
    "        return x\n",
    "    \n",
    "    @classmethod\n",
    "    def init_by_edges_list(cls, list_pairs: list):\n",
    "        edges = 0\n",
    "        graph = []\n",
    "        for i in range(len(list_pairs)):\n",
    "            if list_pairs[i][0] > edges:\n",
    "                edges = list_pairs[i][0]\n",
    "            if list_pairs[i][1] > edges:\n",
    "                edges = list_pairs[i][1]\n",
    "        edges += 1\n",
    "        for i in range(edges):\n",
    "            graph.append([])\n",
    "        for i in range(len(list_pairs)):\n",
    "            graph[list_pairs[i][0]].append(list_pairs[i][1])\n",
    "            graph[list_pairs[i][1]].append(list_pairs[i][0])\n",
    "        x = cls(graph)\n",
    "        return x\n",
    "        \n",
    "    def add_arc(self, u: int, v: int):\n",
    "        self.graph[u].append(v)\n",
    "        \n",
    "    def del_arc(self, start: int, end: int):\n",
    "        self.graph[u].pop(v)\n",
    "    \n",
    "    def add_vertex(self):\n",
    "        self.graph.append(len(self.graph))\n",
    "        \n",
    "    def del_vertex(self, vertex: int):\n",
    "        self.graph.pop(vertex)\n",
    "        \n",
    "        \n",
    "    def get_graph_by_adjacency_list(self):\n",
    "        return self.graph\n",
    "    \n",
    "    def get_graph_by_adjacency_matrix(self):\n",
    "        matr = []\n",
    "        for i in range(len(self.graph)):\n",
    "            matr.append([])\n",
    "            for j in range(len(self.graph)):\n",
    "                matr[i].append(0)\n",
    "            \n",
    "        for i in range(len(self.graph) - 1):\n",
    "            for j in range(len(self.graph[i])):\n",
    "                matr[i][self.graph[i][j]] = 1\n",
    "                matr[self.graph[i][j]][i] = 1\n",
    "        return matr\n",
    "    \n",
    "    \n",
    "    def get_graph_by_incendent_matrix(self):\n",
    "        matr = []\n",
    "        for i in range(len(self.graph)):\n",
    "            matr.append([])\n",
    "            for j in range(len(self.graph)):\n",
    "                matr[i].append(0)\n",
    "            \n",
    "            \n",
    "        for i in range(len(self.graph)):\n",
    "            for j in range(len(self.graph[i]) - 1):\n",
    "                matr[i][self.graph[i][j]] = 1\n",
    "                \n",
    "        return matr\n",
    "    \n",
    "    def find_medians(self):\n",
    "        matr = self.get_graph_by_adjacency_matrix()\n",
    "        matr_ways = []\n",
    "        rez = []\n",
    "        for i in range(len(matr)):\n",
    "            for j in range(len(matr)):\n",
    "                if matr[i][j] == 0:\n",
    "                    matr[i][j] = len(matr) + 10\n",
    "\n",
    "        for i in range(len(matr)):\n",
    "             matr_ways.append([])\n",
    "                \n",
    "        for i in range(len(matr)):\n",
    "            for j in range(len(matr)):\n",
    "                matr_ways[i].append(j)\n",
    "                    \n",
    "        for i in range(len(matr)):\n",
    "            for j in range(len(matr)):\n",
    "                for k in range(len(matr)):\n",
    "                    if matr[i][k] != (len(matr) + 10) and matr[k][j] != (len(matr) + 10) and matr[i][k] + matr[k][j] < matr[i][j]:\n",
    "                        matr[i][j] = matr[i][k] + matr[k][j]\n",
    "                        matr_ways[i][j] = matr_ways[i][k]\n",
    "                        \n",
    "                        \n",
    "        minimum = len(matr) * len(matr)\n",
    "        cnt = 0\n",
    "        for i in range(len(matr)):\n",
    "            for j in range(len(matr)):\n",
    "                cnt += matr[i][j]\n",
    "            if minimum > cnt:\n",
    "                minimum = cnt\n",
    "            cnt = 0\n",
    "                    \n",
    "        for i in range(len(matr)):\n",
    "            for j in range(len(matr)):\n",
    "                cnt += matr[i][j]\n",
    "            if minimum == cnt:\n",
    "                rez.append(i)\n",
    "            cnt = 0\n",
    "                \n",
    "        return rez\n",
    "    \n",
    "    def get_graph_by_edges_list(self):\n",
    "        matr = []\n",
    "        for i in range(len(self.graph)):\n",
    "            for j in range(len(self.graph[i])):\n",
    "                matr.append((i, self.graph[i][j]))\n",
    "        return matr\n",
    "    \n",
    "    def print_graph(graph):\n",
    "        for line in graph:\n",
    "            print(*line)\n",
    "    \n",
    "    def get_graph(self):\n",
    "        return self.graph\n",
    "        \n",
    "    def __del__(self):\n",
    "        print()"
   ]
  },
  {
   "cell_type": "code",
   "execution_count": 51,
   "metadata": {},
   "outputs": [],
   "source": [
    "def draw_graph(graph, nodes = []):\n",
    "    G = nx.Graph()\n",
    "    for i in range(len(graph) - 1):\n",
    "        G.add_node(i)\n",
    "    for i in range(len(graph)):\n",
    "        for j in range(len(graph[i])):\n",
    "            G.add_edge(i, graph[i][j])\n",
    "    nx.draw_shell(G, nlist=[range(len(graph)), range(len(graph))], with_labels=True, \n",
    "                  font_weight='bold', node_size = 1200)\n",
    "    nx.draw_shell(G, nlist=[range(len(graph)), range(len(graph))], with_labels=True, nodelist = nodes, node_color=\"red\",\n",
    "                  font_weight='bold', node_size = 1200)"
   ]
  },
  {
   "cell_type": "code",
   "execution_count": 15,
   "metadata": {},
   "outputs": [],
   "source": [
    "def deep_first_search(graph, vertex, visited, ):\n",
    "    visited[vertex] = True\n",
    "    print(vertex)\n",
    "    for vert in graph[vertex]:\n",
    "        if visited[vert] == False:\n",
    "            deep_first_search(graph, vert, visited)"
   ]
  },
  {
   "cell_type": "code",
   "execution_count": 16,
   "metadata": {},
   "outputs": [],
   "source": [
    "def init_DFS(graph, vertex):\n",
    "    visited = []\n",
    "    for i in range(len(graph)):\n",
    "        visited.append(False)\n",
    "    deep_first_search(graph, vertex, visited)"
   ]
  },
  {
   "cell_type": "code",
   "execution_count": 94,
   "metadata": {},
   "outputs": [
    {
     "name": "stdout",
     "output_type": "stream",
     "text": [
      "\n"
     ]
    },
    {
     "data": {
      "image/png": "[encoded data removed]",
      "text/plain": [
       "<Figure size 432x288 with 1 Axes>"
      ]
     },
     "metadata": {},
     "output_type": "display_data"
    }
   ],
   "source": [
    "adjacency_matrix = [\n",
    "    [0, 1, 1, 0, 1],\n",
    "    [1, 0, 1, 0, 0],\n",
    "    [1, 1, 0, 0, 0],\n",
    "    [0, 0, 0, 0, 0],\n",
    "    [1, 0, 0, 0, 0]]\n",
    "\n",
    "obj1 = Graph.init_by_adjacency_matrix(adjacency_matrix)\n",
    "# print(obj1.get_graph())\n",
    "# print(obj1.get_graph_by_adjacency_matrix())\n",
    "# print(obj1.get_graph_by_incendent_matrix())\n",
    "# print(obj1.get_graph_by_edges_list())\n",
    "# draw_graph(obj1.get_graph())\n",
    "draw_graph(obj1.get_graph(), obj1.find_medians())"
   ]
  },
  {
   "cell_type": "code",
   "execution_count": 92,
   "metadata": {
    "scrolled": false
   },
   "outputs": [
    {
     "name": "stdout",
     "output_type": "stream",
     "text": [
      "\n"
     ]
    },
    {
     "data": {
      "image/png": "[encoded data removed]",
      "text/plain": [
       "<Figure size 432x288 with 1 Axes>"
      ]
     },
     "metadata": {},
     "output_type": "display_data"
    }
   ],
   "source": [
    "# obj2 = Graph.init_by_edges_list([(0,1),(0,2),(0,3),(1,2),(2,4)])\n",
    "obj2 = Graph.init_by_edges_list([(0,1),(1,2),(2,3),(3,4),(4,5),(5,6),(6,7)])\n",
    "# print(obj2.get_graph()) \n",
    "# draw_graph(obj2.get_graph())\n",
    "# init_DFS(obj2.get_graph(), 2)\n",
    "draw_graph(obj2.get_graph(), obj2.find_medians())"
   ]
  },
  {
   "cell_type": "code",
   "execution_count": 89,
   "metadata": {},
   "outputs": [
    {
     "name": "stdout",
     "output_type": "stream",
     "text": [
      "\n",
      "[[0, 1, 0, 1], [1, 0, 1, 1], [0, 1, 0, 1], [1, 1, 1, 0]]\n",
      "[1, 3]\n"
     ]
    },
    {
     "data": {
      "image/png": "[encoded data removed]",
      "text/plain": [
       "<Figure size 432x288 with 1 Axes>"
      ]
     },
     "metadata": {},
     "output_type": "display_data"
    }
   ],
   "source": [
    "incendent_matrix = [\n",
    "    [1,1,0,0,0],\n",
    "    [1,0,1,1,0],\n",
    "    [0,0,0,1,1],\n",
    "    [0,1,1,0,1]\n",
    "]\n",
    "obj3 = Graph.init_by_incendent_matrix(incendent_matrix)\n",
    "print(obj3.get_graph_by_adjacency_matrix())\n",
    "print(obj3.find_medians())\n",
    "draw_graph(obj3.get_graph(), obj3.find_medians())"
   ]
  },
  {
   "cell_type": "code",
   "execution_count": 20,
   "metadata": {},
   "outputs": [],
   "source": []
  },
  {
   "cell_type": "code",
   "execution_count": null,
   "metadata": {},
   "outputs": [],
   "source": []
  },
  {
   "cell_type": "code",
   "execution_count": null,
   "metadata": {},
   "outputs": [],
   "source": []
  },
  {
   "cell_type": "code",
   "execution_count": null,
   "metadata": {},
   "outputs": [],
   "source": []
  },
  {
   "cell_type": "code",
   "execution_count": null,
   "metadata": {},
   "outputs": [],
   "source": [
    "# class Graph:\n",
    "#     def __init__(self, matr: list):\n",
    "#         self.graph = matr\n",
    "        \n",
    "#     @classmethod\n",
    "#     def init_by_adjacency_list(cls, list1):\n",
    "#         x = cls(list1)\n",
    "#         return x\n",
    "        \n",
    "#     @classmethod\n",
    "#     def init_by_adjacency_matrix(cls, matrix):\n",
    "#         graph = [[]]\n",
    "#         for i in range(len(matrix) - 1):\n",
    "#             graph.append([])\n",
    "#         for i in range(len(matrix)):\n",
    "#             for j in range(len(matrix)):\n",
    "#                 if matrix[i][j] == 1:\n",
    "#                     graph[i].append(j)\n",
    "                    \n",
    "#         x = cls(graph)\n",
    "#         return x\n",
    "        \n",
    "#     @classmethod\n",
    "#     def init_by_incendent_matrix(cls, matrix):\n",
    "#         graph = [[]]\n",
    "#         for i in range(len(matrix) - 1):\n",
    "#             graph.append([])\n",
    "#         for i in range(len(matrix[0])):\n",
    "#             cnt = []\n",
    "#             for j in range(len(matrix)):\n",
    "#                 if matrix[j][i] == 1:\n",
    "#                      cnt.append(j)\n",
    "#             graph[cnt.pop()].append(cnt.pop())\n",
    "#         x = cls(graph)\n",
    "#         return x\n",
    "    \n",
    "#     @classmethod\n",
    "#     def init_by_edges_list(cls, list_pairs: list):\n",
    "#         edges = 0\n",
    "#         graph = []\n",
    "#         for i in range(len(list_pairs)):\n",
    "#             if list_pairs[i][0] > edges:\n",
    "#                 edges = list_pairs[i][0]\n",
    "#             if list_pairs[i][1] > edges:\n",
    "#                 edges = list_pairs[i][1]\n",
    "#         edges += 1\n",
    "#         for i in range(edges):\n",
    "#             graph.append([])\n",
    "#         for i in range(len(list_pairs)):\n",
    "#             graph[list_pairs[i][0]].append(list_pairs[i][1])\n",
    "#         x = cls(graph)\n",
    "#         return x\n",
    "        \n",
    "#     def add_arc(self, u: int, v: int):\n",
    "#         self.graph[u].append(v)\n",
    "        \n",
    "#     def del_arc(self, start: int, end: int):\n",
    "#         self.graph[u].pop(v)\n",
    "    \n",
    "#     def add_vertex(self):\n",
    "#         self.graph.append(len(self.graph))\n",
    "        \n",
    "#     def del_vertex(self, vertex: int):\n",
    "#         self.graph.pop(vertex)\n",
    "        \n",
    "#     def get_graph(self):\n",
    "#         return self.graph\n",
    "        \n",
    "        \n",
    "#     def __del__(self):\n",
    "#         print(\"del\")"
   ]
  },
  {
   "cell_type": "code",
   "execution_count": null,
   "metadata": {},
   "outputs": [],
   "source": []
  }
 ],
 "metadata": {
  "kernelspec": {
   "display_name": "Python 3",
   "language": "python",
   "name": "python3"
  },
  "language_info": {
   "codemirror_mode": {
    "name": "ipython",
    "version": 3
   },
   "file_extension": ".py",
   "mimetype": "text/x-python",
   "name": "python",
   "nbconvert_exporter": "python",
   "pygments_lexer": "ipython3",
   "version": "3.9.0"
  }
 },
 "nbformat": 4,
 "nbformat_minor": 4
}
